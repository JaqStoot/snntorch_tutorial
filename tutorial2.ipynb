{
 "cells": [
  {
   "cell_type": "code",
   "execution_count": 4,
   "id": "64a6a2b8",
   "metadata": {},
   "outputs": [],
   "source": [
    "import snntorch as snn\n",
    "from snntorch import spikeplot as splt\n",
    "from snntorch import spikegen\n",
    "\n",
    "import torch\n",
    "import torch.nn as nn\n",
    "\n",
    "import numpy as np\n",
    "import matplotlib.pyplot as plt"
   ]
  },
  {
   "cell_type": "markdown",
   "id": "ee9278ad",
   "metadata": {},
   "source": [
    "# 1. The Spectrum of Neuron Models"
   ]
  },
  {
   "cell_type": "markdown",
   "id": "852f038b",
   "metadata": {},
   "source": [
    "# 2. The Leaky Integrate-and-Fire Neuron Model"
   ]
  },
  {
   "cell_type": "markdown",
   "id": "53ce393e",
   "metadata": {},
   "source": [
    "## 2.1 Spiking Neurons: Intuition"
   ]
  },
  {
   "cell_type": "markdown",
   "id": "d3000830",
   "metadata": {},
   "source": [
    "## 2.2 The Passive Membrane"
   ]
  },
  {
   "cell_type": "markdown",
   "id": "0fbd45f7",
   "metadata": {},
   "source": [
    "# 3. Lapicque's Lif Neuron Model"
   ]
  },
  {
   "cell_type": "code",
   "execution_count": 6,
   "id": "25d58a63",
   "metadata": {},
   "outputs": [],
   "source": [
    "time_step = 1e-3\n",
    "R = 5\n",
    "C = 1e-3\n",
    "\n",
    "# leaky integrate and fire neuron, tau=5e-3\n",
    "lif1 = snn.Lapicque(R=R, C=C, time_step=time_step)"
   ]
  },
  {
   "cell_type": "code",
   "execution_count": 7,
   "id": "6b533126",
   "metadata": {},
   "outputs": [],
   "source": [
    "# Initialize membrane, input, and output\n",
    "mem = torch.ones(1) * 0.9  # U=0.9 at t=0\n",
    "cur_in = torch.zeros(num_steps)  # I=0 for all t\n",
    "spk_out = torch.zeros(1)  # initialize output spikes"
   ]
  },
  {
   "cell_type": "code",
   "execution_count": 8,
   "id": "782a6d56",
   "metadata": {},
   "outputs": [],
   "source": [
    "# A list to store a recording of membrane potential\n",
    "mem_rec = [mem]"
   ]
  },
  {
   "cell_type": "code",
   "execution_count": 12,
   "id": "14116431",
   "metadata": {},
   "outputs": [
    {
     "ename": "AttributeError",
     "evalue": "'Tensor' object has no attribute 'append'",
     "output_type": "error",
     "traceback": [
      "\u001b[1;31m---------------------------------------------------------------------------\u001b[0m",
      "\u001b[1;31mAttributeError\u001b[0m                            Traceback (most recent call last)",
      "Cell \u001b[1;32mIn[12], line 6\u001b[0m\n\u001b[0;32m      3\u001b[0m   spk_out, mem \u001b[38;5;241m=\u001b[39m lif1(cur_in[step], mem)\n\u001b[0;32m      5\u001b[0m   \u001b[38;5;66;03m# Store recordings of membrane potential\u001b[39;00m\n\u001b[1;32m----> 6\u001b[0m   \u001b[43mmem_rec\u001b[49m\u001b[38;5;241;43m.\u001b[39;49m\u001b[43mappend\u001b[49m(mem)\n\u001b[0;32m      8\u001b[0m \u001b[38;5;66;03m# convert the list of tensors into one tensor\u001b[39;00m\n\u001b[0;32m      9\u001b[0m mem_rec \u001b[38;5;241m=\u001b[39m torch\u001b[38;5;241m.\u001b[39mstack(mem_rec)\n",
      "\u001b[1;31mAttributeError\u001b[0m: 'Tensor' object has no attribute 'append'"
     ]
    }
   ],
   "source": [
    "# pass updated value of mem and cur_in[step]=0 at every time step\n",
    "for step in range(num_steps):\n",
    "  spk_out, mem = lif1(cur_in[step], mem)\n",
    "\n",
    "  # Store recordings of membrane potential\n",
    "  mem_rec.append(mem)\n",
    "\n",
    "# convert the list of tensors into one tensor\n",
    "mem_rec = torch.stack(mem_rec)\n",
    "\n",
    "# pre-defined plotting function\n",
    "plot_mem(mem_rec, \"Lapicque's Neuron Model Without Stimulus\")"
   ]
  },
  {
   "cell_type": "code",
   "execution_count": null,
   "id": "07ba1b21",
   "metadata": {},
   "outputs": [],
   "source": []
  }
 ],
 "metadata": {
  "kernelspec": {
   "display_name": "Python 3 (ipykernel)",
   "language": "python",
   "name": "python3"
  },
  "language_info": {
   "codemirror_mode": {
    "name": "ipython",
    "version": 3
   },
   "file_extension": ".py",
   "mimetype": "text/x-python",
   "name": "python",
   "nbconvert_exporter": "python",
   "pygments_lexer": "ipython3",
   "version": "3.9.13"
  }
 },
 "nbformat": 4,
 "nbformat_minor": 5
}
