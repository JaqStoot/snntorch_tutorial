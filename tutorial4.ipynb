{
 "cells": [
  {
   "cell_type": "code",
   "execution_count": 1,
   "id": "aa836f03",
   "metadata": {},
   "outputs": [],
   "source": [
    "# imports\n",
    "import snntorch as snn\n",
    "from snntorch import spikeplot as splt\n",
    "from snntorch import spikegen\n",
    "\n",
    "import torch\n",
    "import torch.nn as nn\n",
    "import matplotlib.pyplot as plt"
   ]
  },
  {
   "cell_type": "code",
   "execution_count": 2,
   "id": "f90258b8",
   "metadata": {},
   "outputs": [],
   "source": [
    "# Temporal dynamics\n",
    "alpha = 0.9\n",
    "beta = 0.8\n",
    "num_steps = 200\n",
    "\n",
    "# Initialize 2nd-order LIF neuron\n",
    "lif1 = snn.Synaptic(alpha=alpha, beta=beta)"
   ]
  },
  {
   "cell_type": "code",
   "execution_count": 3,
   "id": "db55730d",
   "metadata": {},
   "outputs": [
    {
     "ename": "NameError",
     "evalue": "name 'plot_spk_cur_mem_spk' is not defined",
     "output_type": "error",
     "traceback": [
      "\u001b[1;31m---------------------------------------------------------------------------\u001b[0m",
      "\u001b[1;31mNameError\u001b[0m                                 Traceback (most recent call last)",
      "Cell \u001b[1;32mIn[3], line 25\u001b[0m\n\u001b[0;32m     22\u001b[0m syn_rec \u001b[38;5;241m=\u001b[39m torch\u001b[38;5;241m.\u001b[39mstack(syn_rec)\n\u001b[0;32m     23\u001b[0m mem_rec \u001b[38;5;241m=\u001b[39m torch\u001b[38;5;241m.\u001b[39mstack(mem_rec)\n\u001b[1;32m---> 25\u001b[0m \u001b[43mplot_spk_cur_mem_spk\u001b[49m(spk_in, syn_rec, mem_rec, spk_rec,\n\u001b[0;32m     26\u001b[0m                      \u001b[38;5;124m\"\u001b[39m\u001b[38;5;124mSynaptic Conductance-based Neuron Model With Input Spikes\u001b[39m\u001b[38;5;124m\"\u001b[39m)\n",
      "\u001b[1;31mNameError\u001b[0m: name 'plot_spk_cur_mem_spk' is not defined"
     ]
    }
   ],
   "source": [
    "# Periodic spiking input, spk_in = 0.2 V\n",
    "w = 0.2\n",
    "spk_period = torch.cat((torch.ones(1)*w, torch.zeros(9)), 0)\n",
    "spk_in = spk_period.repeat(20)\n",
    "\n",
    "# Initialize hidden states and output\n",
    "syn, mem = lif1.init_synaptic()\n",
    "spk_out = torch.zeros(1)\n",
    "syn_rec = []\n",
    "mem_rec = []\n",
    "spk_rec = []\n",
    "\n",
    "# Simulate neurons\n",
    "for step in range(num_steps):\n",
    "  spk_out, syn, mem = lif1(spk_in[step], syn, mem)\n",
    "  spk_rec.append(spk_out)\n",
    "  syn_rec.append(syn)\n",
    "  mem_rec.append(mem)\n",
    "\n",
    "# convert lists to tensors\n",
    "spk_rec = torch.stack(spk_rec)\n",
    "syn_rec = torch.stack(syn_rec)\n",
    "mem_rec = torch.stack(mem_rec)\n",
    "\n",
    "plot_spk_cur_mem_spk(spk_in, syn_rec, mem_rec, spk_rec,\n",
    "                     \"Synaptic Conductance-based Neuron Model With Input Spikes\")\n"
   ]
  },
  {
   "cell_type": "code",
   "execution_count": 4,
   "id": "f410b7c3",
   "metadata": {},
   "outputs": [],
   "source": [
    "alpha = 0.8\n",
    "beta = 0.7\n",
    "\n",
    "# initialize neuron\n",
    "lif2 = snn.Alpha(alpha=alpha, beta=beta, threshold=0.5)"
   ]
  },
  {
   "cell_type": "code",
   "execution_count": 5,
   "id": "623d6e45",
   "metadata": {},
   "outputs": [
    {
     "ename": "NameError",
     "evalue": "name 'plot_spk_mem_spk' is not defined",
     "output_type": "error",
     "traceback": [
      "\u001b[1;31m---------------------------------------------------------------------------\u001b[0m",
      "\u001b[1;31mNameError\u001b[0m                                 Traceback (most recent call last)",
      "Cell \u001b[1;32mIn[5], line 21\u001b[0m\n\u001b[0;32m     18\u001b[0m mem_rec \u001b[38;5;241m=\u001b[39m torch\u001b[38;5;241m.\u001b[39mstack(mem_rec)\n\u001b[0;32m     19\u001b[0m spk_rec \u001b[38;5;241m=\u001b[39m torch\u001b[38;5;241m.\u001b[39mstack(spk_rec)\n\u001b[1;32m---> 21\u001b[0m \u001b[43mplot_spk_mem_spk\u001b[49m(spk_in, mem_rec, spk_rec, \u001b[38;5;124m\"\u001b[39m\u001b[38;5;124mAlpha Neuron Model With Input Spikes\u001b[39m\u001b[38;5;124m\"\u001b[39m)\n",
      "\u001b[1;31mNameError\u001b[0m: name 'plot_spk_mem_spk' is not defined"
     ]
    }
   ],
   "source": [
    "# input spike: initial spike, and then period spiking\n",
    "w = 0.85\n",
    "spk_in = (torch.cat((torch.zeros(10), torch.ones(1), torch.zeros(89),\n",
    "                     (torch.cat((torch.ones(1), torch.zeros(9)),0).repeat(10))), 0) * w).unsqueeze(1)\n",
    "\n",
    "# initialize parameters\n",
    "syn_exc, syn_inh, mem = lif2.init_alpha()\n",
    "mem_rec = []\n",
    "spk_rec = []\n",
    "\n",
    "# run simulation\n",
    "for step in range(num_steps):\n",
    "  spk_out, syn_exc, syn_inh, mem = lif2(spk_in[step], syn_exc, syn_inh, mem)\n",
    "  mem_rec.append(mem.squeeze(0))\n",
    "  spk_rec.append(spk_out.squeeze(0))\n",
    "\n",
    "# convert lists to tensors\n",
    "mem_rec = torch.stack(mem_rec)\n",
    "spk_rec = torch.stack(spk_rec)\n",
    "\n",
    "plot_spk_mem_spk(spk_in, mem_rec, spk_rec, \"Alpha Neuron Model With Input Spikes\")"
   ]
  },
  {
   "cell_type": "code",
   "execution_count": null,
   "id": "df2c741f",
   "metadata": {},
   "outputs": [],
   "source": []
  }
 ],
 "metadata": {
  "kernelspec": {
   "display_name": "Python 3 (ipykernel)",
   "language": "python",
   "name": "python3"
  },
  "language_info": {
   "codemirror_mode": {
    "name": "ipython",
    "version": 3
   },
   "file_extension": ".py",
   "mimetype": "text/x-python",
   "name": "python",
   "nbconvert_exporter": "python",
   "pygments_lexer": "ipython3",
   "version": "3.9.13"
  }
 },
 "nbformat": 4,
 "nbformat_minor": 5
}
