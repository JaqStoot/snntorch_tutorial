{
 "cells": [
  {
   "cell_type": "code",
   "execution_count": 1,
   "id": "db4a15d8",
   "metadata": {},
   "outputs": [
    {
     "name": "stdout",
     "output_type": "stream",
     "text": [
      "Requirement already satisfied: snntorch in c:\\users\\jack\\appdata\\local\\programs\\python\\python39\\lib\\site-packages (0.5.3)\n",
      "Requirement already satisfied: matplotlib in c:\\users\\jack\\appdata\\local\\programs\\python\\python39\\lib\\site-packages (from snntorch) (3.6.3)\n",
      "Requirement already satisfied: pandas in c:\\users\\jack\\appdata\\local\\programs\\python\\python39\\lib\\site-packages (from snntorch) (1.5.3)\n",
      "Requirement already satisfied: torch>=1.1.0 in c:\\users\\jack\\appdata\\local\\programs\\python\\python39\\lib\\site-packages (from snntorch) (1.13.1)\n",
      "Requirement already satisfied: numpy>=1.17 in c:\\users\\jack\\appdata\\local\\programs\\python\\python39\\lib\\site-packages (from snntorch) (1.24.1)\n",
      "Requirement already satisfied: typing-extensions in c:\\users\\jack\\appdata\\local\\programs\\python\\python39\\lib\\site-packages (from torch>=1.1.0->snntorch) (4.4.0)\n",
      "Requirement already satisfied: kiwisolver>=1.0.1 in c:\\users\\jack\\appdata\\local\\programs\\python\\python39\\lib\\site-packages (from matplotlib->snntorch) (1.4.4)\n",
      "Requirement already satisfied: pillow>=6.2.0 in c:\\users\\jack\\appdata\\local\\programs\\python\\python39\\lib\\site-packages (from matplotlib->snntorch) (9.4.0)\n",
      "Requirement already satisfied: python-dateutil>=2.7 in c:\\users\\jack\\appdata\\local\\programs\\python\\python39\\lib\\site-packages (from matplotlib->snntorch) (2.8.2)\n",
      "Requirement already satisfied: pyparsing>=2.2.1 in c:\\users\\jack\\appdata\\local\\programs\\python\\python39\\lib\\site-packages (from matplotlib->snntorch) (3.0.9)\n",
      "Requirement already satisfied: cycler>=0.10 in c:\\users\\jack\\appdata\\local\\programs\\python\\python39\\lib\\site-packages (from matplotlib->snntorch) (0.11.0)\n",
      "Requirement already satisfied: packaging>=20.0 in c:\\users\\jack\\appdata\\local\\programs\\python\\python39\\lib\\site-packages (from matplotlib->snntorch) (23.0)\n",
      "Requirement already satisfied: contourpy>=1.0.1 in c:\\users\\jack\\appdata\\local\\programs\\python\\python39\\lib\\site-packages (from matplotlib->snntorch) (1.0.7)\n",
      "Requirement already satisfied: fonttools>=4.22.0 in c:\\users\\jack\\appdata\\local\\programs\\python\\python39\\lib\\site-packages (from matplotlib->snntorch) (4.38.0)\n",
      "Requirement already satisfied: pytz>=2020.1 in c:\\users\\jack\\appdata\\local\\programs\\python\\python39\\lib\\site-packages (from pandas->snntorch) (2022.7.1)\n",
      "Requirement already satisfied: six>=1.5 in c:\\users\\jack\\appdata\\local\\programs\\python\\python39\\lib\\site-packages (from python-dateutil>=2.7->matplotlib->snntorch) (1.16.0)\n",
      "Note: you may need to restart the kernel to use updated packages.\n"
     ]
    }
   ],
   "source": [
    "pip install snntorch"
   ]
  },
  {
   "cell_type": "code",
   "execution_count": 2,
   "id": "60ae26e8",
   "metadata": {},
   "outputs": [],
   "source": [
    "# imports\n",
    "import snntorch as snn\n",
    "from snntorch import surrogate\n",
    "from snntorch import backprop\n",
    "from snntorch import functional as SF\n",
    "from snntorch import utils\n",
    "from snntorch import spikeplot as splt\n",
    "\n",
    "import torch\n",
    "import torch.nn as nn\n",
    "from torch.utils.data import DataLoader\n",
    "from torchvision import datasets, transforms\n",
    "import torch.nn.functional as F\n",
    "\n",
    "import matplotlib.pyplot as plt\n",
    "import numpy as np\n",
    "import itertools"
   ]
  },
  {
   "cell_type": "code",
   "execution_count": 3,
   "id": "1b895193",
   "metadata": {},
   "outputs": [],
   "source": [
    "# Leaky neuron model, overriding the backward pass with a custom function\n",
    "class LeakySigmoidSurrogate(nn.Module):\n",
    "  def __init__(self, beta, threshold=1.0, k=25):\n",
    "      super(Leaky_Surrogate, self).__init__()\n",
    "\n",
    "      # initialize decay rate beta and threshold\n",
    "      self.beta = beta\n",
    "      self.threshold = threshold\n",
    "      self.surrogate_func = self.FastSigmoid.apply\n",
    "\n",
    "  # the forward function is called each time we call Leaky\n",
    "  def forward(self, input_, mem):\n",
    "    spk = self.surrogate_func((mem-self.threshold))  # call the Heaviside function\n",
    "    reset = (spk - self.threshold).detach()\n",
    "    mem = self.beta * mem + input_ - reset\n",
    "    return spk, mem\n",
    "\n",
    "  # Forward pass: Heaviside function\n",
    "  # Backward pass: Override Dirac Delta with gradient of fast sigmoid\n",
    "  @staticmethod\n",
    "  class FastSigmoid(torch.autograd.Function):\n",
    "    @staticmethod\n",
    "    def forward(ctx, mem, k=25):\n",
    "        ctx.save_for_backward(mem) # store the membrane potential for use in the backward pass\n",
    "        ctx.k = k\n",
    "        out = (mem > 0).float() # Heaviside on the forward pass: Eq(1)\n",
    "        return out\n",
    "\n",
    "    @staticmethod\n",
    "    def backward(ctx, grad_output):\n",
    "        (mem,) = ctx.saved_tensors  # retrieve membrane potential\n",
    "        grad_input = grad_output.clone()\n",
    "        grad = grad_input / (ctx.k * torch.abs(mem) + 1.0) ** 2  # gradient of fast sigmoid on backward pass: Eq(4)\n",
    "        return grad, None"
   ]
  },
  {
   "cell_type": "code",
   "execution_count": 4,
   "id": "eb6dcf06",
   "metadata": {},
   "outputs": [],
   "source": [
    "spike_grad = surrogate.fast_sigmoid(slope=25)\n",
    "beta = 0.5\n",
    "\n",
    "lif1 = snn.Leaky(beta=beta, spike_grad=spike_grad)"
   ]
  },
  {
   "cell_type": "code",
   "execution_count": 5,
   "id": "ec85b260",
   "metadata": {},
   "outputs": [],
   "source": [
    "# dataloader arguments\n",
    "batch_size = 128\n",
    "data_path='/data/mnist'\n",
    "subset=10\n",
    "\n",
    "dtype = torch.float\n",
    "device = torch.device(\"cuda\") if torch.cuda.is_available() else torch.device(\"cpu\")"
   ]
  },
  {
   "cell_type": "code",
   "execution_count": 6,
   "id": "61ff2cd0",
   "metadata": {},
   "outputs": [],
   "source": [
    "# Define a transform\n",
    "transform = transforms.Compose([\n",
    "            transforms.Resize((28, 28)),\n",
    "            transforms.Grayscale(),\n",
    "            transforms.ToTensor(),\n",
    "            transforms.Normalize((0,), (1,))])\n",
    "\n",
    "mnist_train = datasets.MNIST(data_path, train=True, download=True, transform=transform)\n",
    "mnist_test = datasets.MNIST(data_path, train=False, download=True, transform=transform)\n",
    "\n",
    "# reduce datasets by 10x to speed up training\n",
    "utils.data_subset(mnist_train, subset)\n",
    "utils.data_subset(mnist_test, subset)\n",
    "\n",
    "# Create DataLoaders\n",
    "train_loader = DataLoader(mnist_train, batch_size=batch_size, shuffle=True, drop_last=True)\n",
    "test_loader = DataLoader(mnist_test, batch_size=batch_size, shuffle=True, drop_last=True)"
   ]
  },
  {
   "cell_type": "code",
   "execution_count": 7,
   "id": "bb89e239",
   "metadata": {},
   "outputs": [],
   "source": [
    "# neuron and simulation parameters\n",
    "spike_grad = surrogate.fast_sigmoid(slope=25)\n",
    "beta = 0.5\n",
    "num_steps = 50"
   ]
  },
  {
   "cell_type": "code",
   "execution_count": 8,
   "id": "6320a38e",
   "metadata": {},
   "outputs": [],
   "source": [
    "# Define Network\n",
    "class Net(nn.Module):\n",
    "    def __init__(self):\n",
    "        super().__init__()\n",
    "\n",
    "        # Initialize layers\n",
    "        self.conv1 = nn.Conv2d(1, 12, 5)\n",
    "        self.lif1 = snn.Leaky(beta=beta, spike_grad=spike_grad)\n",
    "        self.conv2 = nn.Conv2d(12, 64, 5)\n",
    "        self.lif2 = snn.Leaky(beta=beta, spike_grad=spike_grad)\n",
    "        self.fc1 = nn.Linear(64*4*4, 10)\n",
    "        self.lif3 = snn.Leaky(beta=beta, spike_grad=spike_grad)\n",
    "\n",
    "    def forward(self, x):\n",
    "\n",
    "        # Initialize hidden states and outputs at t=0\n",
    "        mem1 = self.lif1.init_leaky()\n",
    "        mem2 = self.lif2.init_leaky()\n",
    "        mem3 = self.lif3.init_leaky()\n",
    "\n",
    "        cur1 = F.max_pool2d(self.conv1(x), 2)\n",
    "        spk1, mem1 = self.lif1(cur1, mem1)\n",
    "\n",
    "        cur2 = F.max_pool2d(self.conv2(spk1), 2)\n",
    "        spk2, mem2 = self.lif2(cur2, mem2)\n",
    "\n",
    "        cur3 = self.fc1(spk2.view(batch_size, -1))\n",
    "        spk3, mem3 = self.lif3(cur3, mem3)\n",
    "\n",
    "        return spk3, mem3"
   ]
  },
  {
   "cell_type": "code",
   "execution_count": 9,
   "id": "9ccee775",
   "metadata": {},
   "outputs": [],
   "source": [
    "#  Initialize Network\n",
    "net = nn.Sequential(nn.Conv2d(1, 12, 5),\n",
    "                    nn.MaxPool2d(2),\n",
    "                    snn.Leaky(beta=beta, spike_grad=spike_grad, init_hidden=True),\n",
    "                    nn.Conv2d(12, 64, 5),\n",
    "                    nn.MaxPool2d(2),\n",
    "                    snn.Leaky(beta=beta, spike_grad=spike_grad, init_hidden=True),\n",
    "                    nn.Flatten(),\n",
    "                    nn.Linear(64*4*4, 10),\n",
    "                    snn.Leaky(beta=beta, spike_grad=spike_grad, init_hidden=True, output=True)\n",
    "                    ).to(device)"
   ]
  },
  {
   "cell_type": "code",
   "execution_count": 10,
   "id": "24b145e3",
   "metadata": {},
   "outputs": [],
   "source": [
    "data, targets = next(iter(train_loader))\n",
    "data = data.to(device)\n",
    "targets = targets.to(device)\n",
    "\n",
    "for step in range(num_steps):\n",
    "    spk_out, mem_out = net(data)"
   ]
  },
  {
   "cell_type": "code",
   "execution_count": 11,
   "id": "88990ca6",
   "metadata": {},
   "outputs": [],
   "source": [
    "def forward_pass(net, num_steps, data):\n",
    "  mem_rec = []\n",
    "  spk_rec = []\n",
    "  utils.reset(net)  # resets hidden states for all LIF neurons in net\n",
    "\n",
    "  for step in range(num_steps):\n",
    "      spk_out, mem_out = net(data)\n",
    "      spk_rec.append(spk_out)\n",
    "      mem_rec.append(mem_out)\n",
    "\n",
    "  return torch.stack(spk_rec), torch.stack(mem_rec)"
   ]
  },
  {
   "cell_type": "code",
   "execution_count": 12,
   "id": "83b34131",
   "metadata": {},
   "outputs": [],
   "source": [
    "spk_rec, mem_rec = forward_pass(net, num_steps, data)"
   ]
  },
  {
   "cell_type": "code",
   "execution_count": 13,
   "id": "1a57e965",
   "metadata": {},
   "outputs": [],
   "source": [
    "# already imported snntorch.functional as SF\n",
    "loss_fn = SF.ce_rate_loss()"
   ]
  },
  {
   "cell_type": "code",
   "execution_count": 14,
   "id": "4a3ee501",
   "metadata": {},
   "outputs": [],
   "source": [
    "loss_val = loss_fn(spk_rec, targets)"
   ]
  },
  {
   "cell_type": "code",
   "execution_count": 15,
   "id": "7422739c",
   "metadata": {},
   "outputs": [
    {
     "name": "stdout",
     "output_type": "stream",
     "text": [
      "The loss from an untrained network is 2.303\n"
     ]
    }
   ],
   "source": [
    "print(f\"The loss from an untrained network is {loss_val.item():.3f}\")"
   ]
  },
  {
   "cell_type": "code",
   "execution_count": 16,
   "id": "0d7da6e1",
   "metadata": {},
   "outputs": [],
   "source": [
    "acc = SF.accuracy_rate(spk_rec, targets)"
   ]
  },
  {
   "cell_type": "code",
   "execution_count": 17,
   "id": "d0b6582c",
   "metadata": {},
   "outputs": [
    {
     "name": "stdout",
     "output_type": "stream",
     "text": [
      "The accuracy of a single batch using an untrained network is 12.500%\n"
     ]
    }
   ],
   "source": [
    "print(f\"The accuracy of a single batch using an untrained network is {acc*100:.3f}%\")"
   ]
  },
  {
   "cell_type": "code",
   "execution_count": 18,
   "id": "7a16bf24",
   "metadata": {},
   "outputs": [],
   "source": [
    "def batch_accuracy(train_loader, net, num_steps):\n",
    "  with torch.no_grad():\n",
    "    total = 0\n",
    "    acc = 0\n",
    "    net.eval()\n",
    "\n",
    "    train_loader = iter(train_loader)\n",
    "    for data, targets in train_loader:\n",
    "      data = data.to(device)\n",
    "      targets = targets.to(device)\n",
    "      spk_rec, _ = forward_pass(net, num_steps, data)\n",
    "\n",
    "      acc += SF.accuracy_rate(spk_rec, targets) * spk_rec.size(1)\n",
    "      total += spk_rec.size(1)\n",
    "\n",
    "  return acc/total"
   ]
  },
  {
   "cell_type": "code",
   "execution_count": 19,
   "id": "71dd7ba1",
   "metadata": {},
   "outputs": [],
   "source": [
    "test_acc = batch_accuracy(test_loader, net, num_steps)"
   ]
  },
  {
   "cell_type": "code",
   "execution_count": 20,
   "id": "8e8f6430",
   "metadata": {},
   "outputs": [
    {
     "name": "stdout",
     "output_type": "stream",
     "text": [
      "The total accuracy on the test set is: 8.71%\n"
     ]
    }
   ],
   "source": [
    "print(f\"The total accuracy on the test set is: {test_acc * 100:.2f}%\")"
   ]
  },
  {
   "cell_type": "code",
   "execution_count": null,
   "id": "b55dfd66",
   "metadata": {},
   "outputs": [],
   "source": [
    "optimizer = torch.optim.Adam(net.parameters(), lr=1e-2, betas=(0.9, 0.999))\n",
    "num_epochs = 10\n",
    "test_acc_hist = []\n",
    "\n",
    "# training loop\n",
    "for epoch in range(num_epochs):\n",
    "\n",
    "    avg_loss = backprop.BPTT(net, train_loader, optimizer=optimizer, criterion=loss_fn,\n",
    "                            num_steps=num_steps, time_var=False, device=device)\n",
    "\n",
    "    print(f\"Epoch {epoch}, Train Loss: {avg_loss.item():.2f}\")\n",
    "\n",
    "    # Test set accuracy\n",
    "    test_acc = batch_accuracy(test_loader, net, num_steps)\n",
    "    test_acc_hist.append(test_acc)\n",
    "\n",
    "    print(f\"Epoch {epoch}, Test Acc: {test_acc * 100:.2f}%\\n\")"
   ]
  },
  {
   "cell_type": "code",
   "execution_count": null,
   "id": "f6f7978d",
   "metadata": {},
   "outputs": [],
   "source": [
    "# Plot Loss\n",
    "fig = plt.figure(facecolor=\"w\")\n",
    "plt.plot(test_acc_hist)\n",
    "plt.title(\"Test Set Accuracy\")\n",
    "plt.xlabel(\"Epoch\")\n",
    "plt.ylabel(\"Accuracy\")\n",
    "plt.show()"
   ]
  },
  {
   "cell_type": "code",
   "execution_count": 22,
   "id": "36e118a6",
   "metadata": {},
   "outputs": [],
   "source": [
    "spk_rec, mem_rec = forward_pass(net, num_steps, data)"
   ]
  },
  {
   "cell_type": "code",
   "execution_count": 23,
   "id": "85d18637",
   "metadata": {},
   "outputs": [
    {
     "ename": "RuntimeError",
     "evalue": "Requested MovieWriter (ffmpeg) not available",
     "output_type": "error",
     "traceback": [
      "\u001b[1;31m---------------------------------------------------------------------------\u001b[0m",
      "\u001b[1;31mRuntimeError\u001b[0m                              Traceback (most recent call last)",
      "Cell \u001b[1;32mIn[23], line 14\u001b[0m\n\u001b[0;32m      8\u001b[0m \u001b[38;5;66;03m# plt.rcParams['animation.ffmpeg_path'] = 'C:\\\\path\\\\to\\\\your\\\\ffmpeg.exe'\u001b[39;00m\n\u001b[0;32m      9\u001b[0m \n\u001b[0;32m     10\u001b[0m \u001b[38;5;66;03m#  Plot spike count histogram\u001b[39;00m\n\u001b[0;32m     11\u001b[0m anim \u001b[38;5;241m=\u001b[39m splt\u001b[38;5;241m.\u001b[39mspike_count(spk_rec[:, idx]\u001b[38;5;241m.\u001b[39mdetach()\u001b[38;5;241m.\u001b[39mcpu(), fig, ax, labels\u001b[38;5;241m=\u001b[39mlabels,\n\u001b[0;32m     12\u001b[0m                         animate\u001b[38;5;241m=\u001b[39m\u001b[38;5;28;01mTrue\u001b[39;00m, interpolate\u001b[38;5;241m=\u001b[39m\u001b[38;5;241m4\u001b[39m)\n\u001b[1;32m---> 14\u001b[0m HTML(\u001b[43manim\u001b[49m\u001b[38;5;241;43m.\u001b[39;49m\u001b[43mto_html5_video\u001b[49m\u001b[43m(\u001b[49m\u001b[43m)\u001b[49m)\n\u001b[0;32m     15\u001b[0m \u001b[38;5;66;03m# anim.save(\"spike_bar.mp4\")\u001b[39;00m\n",
      "File \u001b[1;32m~\\AppData\\Local\\Programs\\Python\\Python39\\lib\\site-packages\\matplotlib\\animation.py:1263\u001b[0m, in \u001b[0;36mAnimation.to_html5_video\u001b[1;34m(self, embed_limit)\u001b[0m\n\u001b[0;32m   1260\u001b[0m path \u001b[38;5;241m=\u001b[39m Path(tmpdir, \u001b[38;5;124m\"\u001b[39m\u001b[38;5;124mtemp.m4v\u001b[39m\u001b[38;5;124m\"\u001b[39m)\n\u001b[0;32m   1261\u001b[0m \u001b[38;5;66;03m# We create a writer manually so that we can get the\u001b[39;00m\n\u001b[0;32m   1262\u001b[0m \u001b[38;5;66;03m# appropriate size for the tag\u001b[39;00m\n\u001b[1;32m-> 1263\u001b[0m Writer \u001b[38;5;241m=\u001b[39m \u001b[43mwriters\u001b[49m\u001b[43m[\u001b[49m\u001b[43mmpl\u001b[49m\u001b[38;5;241;43m.\u001b[39;49m\u001b[43mrcParams\u001b[49m\u001b[43m[\u001b[49m\u001b[38;5;124;43m'\u001b[39;49m\u001b[38;5;124;43manimation.writer\u001b[39;49m\u001b[38;5;124;43m'\u001b[39;49m\u001b[43m]\u001b[49m\u001b[43m]\u001b[49m\n\u001b[0;32m   1264\u001b[0m writer \u001b[38;5;241m=\u001b[39m Writer(codec\u001b[38;5;241m=\u001b[39m\u001b[38;5;124m'\u001b[39m\u001b[38;5;124mh264\u001b[39m\u001b[38;5;124m'\u001b[39m,\n\u001b[0;32m   1265\u001b[0m                 bitrate\u001b[38;5;241m=\u001b[39mmpl\u001b[38;5;241m.\u001b[39mrcParams[\u001b[38;5;124m'\u001b[39m\u001b[38;5;124manimation.bitrate\u001b[39m\u001b[38;5;124m'\u001b[39m],\n\u001b[0;32m   1266\u001b[0m                 fps\u001b[38;5;241m=\u001b[39m\u001b[38;5;241m1000.\u001b[39m \u001b[38;5;241m/\u001b[39m \u001b[38;5;28mself\u001b[39m\u001b[38;5;241m.\u001b[39m_interval)\n\u001b[0;32m   1267\u001b[0m \u001b[38;5;28mself\u001b[39m\u001b[38;5;241m.\u001b[39msave(\u001b[38;5;28mstr\u001b[39m(path), writer\u001b[38;5;241m=\u001b[39mwriter)\n",
      "File \u001b[1;32m~\\AppData\\Local\\Programs\\Python\\Python39\\lib\\site-packages\\matplotlib\\animation.py:148\u001b[0m, in \u001b[0;36mMovieWriterRegistry.__getitem__\u001b[1;34m(self, name)\u001b[0m\n\u001b[0;32m    146\u001b[0m \u001b[38;5;28;01mif\u001b[39;00m \u001b[38;5;28mself\u001b[39m\u001b[38;5;241m.\u001b[39mis_available(name):\n\u001b[0;32m    147\u001b[0m     \u001b[38;5;28;01mreturn\u001b[39;00m \u001b[38;5;28mself\u001b[39m\u001b[38;5;241m.\u001b[39m_registered[name]\n\u001b[1;32m--> 148\u001b[0m \u001b[38;5;28;01mraise\u001b[39;00m \u001b[38;5;167;01mRuntimeError\u001b[39;00m(\u001b[38;5;124mf\u001b[39m\u001b[38;5;124m\"\u001b[39m\u001b[38;5;124mRequested MovieWriter (\u001b[39m\u001b[38;5;132;01m{\u001b[39;00mname\u001b[38;5;132;01m}\u001b[39;00m\u001b[38;5;124m) not available\u001b[39m\u001b[38;5;124m\"\u001b[39m)\n",
      "\u001b[1;31mRuntimeError\u001b[0m: Requested MovieWriter (ffmpeg) not available"
     ]
    },
    {
     "data": {
      "image/png": "[encoded data removed]",
      "text/plain": [
       "<Figure size 1200x700 with 1 Axes>"
      ]
     },
     "metadata": {},
     "output_type": "display_data"
    }
   ],
   "source": [
    "from IPython.display import HTML\n",
    "\n",
    "idx = 0\n",
    "\n",
    "fig, ax = plt.subplots(facecolor='w', figsize=(12, 7))\n",
    "labels=['0', '1', '2', '3', '4', '5', '6', '7', '8','9']\n",
    "\n",
    "# plt.rcParams['animation.ffmpeg_path'] = 'C:\\\\path\\\\to\\\\your\\\\ffmpeg.exe'\n",
    "\n",
    "#  Plot spike count histogram\n",
    "anim = splt.spike_count(spk_rec[:, idx].detach().cpu(), fig, ax, labels=labels,\n",
    "                        animate=True, interpolate=4)\n",
    "\n",
    "HTML(anim.to_html5_video())\n",
    "# anim.save(\"spike_bar.mp4\")"
   ]
  },
  {
   "cell_type": "code",
   "execution_count": 24,
   "id": "cbe77444",
   "metadata": {},
   "outputs": [
    {
     "name": "stdout",
     "output_type": "stream",
     "text": [
      "The target label is: 6\n"
     ]
    }
   ],
   "source": [
    "print(f\"The target label is: {targets[idx]}\")"
   ]
  },
  {
   "cell_type": "code",
   "execution_count": null,
   "id": "a1d911e3",
   "metadata": {},
   "outputs": [],
   "source": []
  }
 ],
 "metadata": {
  "kernelspec": {
   "display_name": "Python 3 (ipykernel)",
   "language": "python",
   "name": "python3"
  },
  "language_info": {
   "codemirror_mode": {
    "name": "ipython",
    "version": 3
   },
   "file_extension": ".py",
   "mimetype": "text/x-python",
   "name": "python",
   "nbconvert_exporter": "python",
   "pygments_lexer": "ipython3",
   "version": "3.9.13"
  }
 },
 "nbformat": 4,
 "nbformat_minor": 5
}
